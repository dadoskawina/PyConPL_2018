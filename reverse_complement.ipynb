{
 "cells": [
  {
   "cell_type": "markdown",
   "metadata": {},
   "source": [
    "## How to implement reverse complement"
   ]
  },
  {
   "cell_type": "markdown",
   "metadata": {
    "collapsed": true
   },
   "source": [
    "### Background\n",
    "\n",
    "One of the most common tasks in computational biology is to determine the rewerse complement of DNA sequence. \n",
    "\n",
    "DNA is a genome sequence that consists of letters `A`, `C`, `G` and `T`. In nature two sequences are joint together forming a helice, where `A` from first sequence is always connected to corresponding `T` from the second sequence and `C` is connected to `G` and vice versa (that's called `complementarity`).\n",
    "\n",
    "Additionally DNA sequences are `directional`, and sequences forming one helice have opposite directionality. Thus if we know one sequence from helice and want to determine the second one, we should create complement (A->T, C->G, G->C, T->A) and reverse it.\n",
    "\n",
    "![caption](dnastructure.gif)\n",
    "(Image: DNA helice, *source: http://www.ric.edu/faculty/jmontvilo/109graphics/dnaandrna/dnastructure.gif*)\n",
    "\n",
    "*Example:*\n",
    "*Complement of `AACGTA` is `TTGCAT`, reverse of which is `TACGTT`.*\n",
    "*So, reverse complement of `AACGTA` is `TACGTT`.*"
   ]
  },
  {
   "cell_type": "markdown",
   "metadata": {},
   "source": [
    "Below I present 11 differrent correct solutions to this task. Main goal of this experiment is to show the importance of effective implementation and which one is the fastest."
   ]
  },
  {
   "cell_type": "markdown",
   "metadata": {},
   "source": [
    "### Solution 1 \n",
    "If-else clause"
   ]
  },
  {
   "cell_type": "code",
   "execution_count": 1,
   "metadata": {},
   "outputs": [],
   "source": [
    "def revc_1(sequence):\n",
    "    seq_temp = ''\n",
    "    for letter in sequence:\n",
    "        if letter == 'A':\n",
    "            seq_temp += 'T'\n",
    "        elif letter == 'G':\n",
    "            seq_temp += 'C'\n",
    "        elif letter == 'C':\n",
    "            seq_temp += 'G'\n",
    "        elif letter == 'T':\n",
    "            seq_temp += 'A'\n",
    "        else:\n",
    "            seq_temp += 'N'\n",
    "    return seq_temp[::-1]"
   ]
  },
  {
   "cell_type": "markdown",
   "metadata": {},
   "source": [
    "### Solution 2\n",
    "If-then-else - lists"
   ]
  },
  {
   "cell_type": "code",
   "execution_count": 2,
   "metadata": {},
   "outputs": [],
   "source": [
    "def revc_2(sequence):\n",
    "    list_seq = list(sequence)\n",
    "    for i in range(0, len(sequence)):\n",
    "        if list_seq[i] == 'A':\n",
    "            list_seq[i] = 'T'\n",
    "        elif list_seq[i] == 'T':\n",
    "            list_seq[i] = 'A'\n",
    "        elif list_seq[i] == 'C':\n",
    "            list_seq[i] = 'G'\n",
    "        elif list_seq[i] == 'G':\n",
    "            list_seq[i] = 'C'\n",
    "        else:\n",
    "            list_seq[i] = 'N'\n",
    "    return ''.join(list_seq[::-1])"
   ]
  },
  {
   "cell_type": "markdown",
   "metadata": {},
   "source": [
    "### Solution 3\n",
    "Replacement"
   ]
  },
  {
   "cell_type": "code",
   "execution_count": 3,
   "metadata": {},
   "outputs": [],
   "source": [
    "def revc_3(sequence):\n",
    "    return sequence.upper().replace('A', 't').replace('T', 'a').replace('C', 'g').replace('G', 'c').upper()[::-1]"
   ]
  },
  {
   "cell_type": "markdown",
   "metadata": {},
   "source": [
    "### Solution 4\n",
    "Maketrans"
   ]
  },
  {
   "cell_type": "code",
   "execution_count": 4,
   "metadata": {},
   "outputs": [],
   "source": [
    "def revc_4(sequence):\n",
    "    return sequence[::-1].translate(str.maketrans('ACGTN', 'TGCAN'))\n",
    "\n",
    "# \"\"\"\n",
    "# Code for python 2:\n",
    "\n",
    "# from string import maketrans\n",
    "# return sequence[::-1].translate(maketrans('ACGTN', 'TGCAN'))\n",
    "# \"\"\""
   ]
  },
  {
   "cell_type": "markdown",
   "metadata": {},
   "source": [
    "### Solution 5\n",
    "With dict and `reversed` function"
   ]
  },
  {
   "cell_type": "code",
   "execution_count": 5,
   "metadata": {},
   "outputs": [],
   "source": [
    "def revc_5(sequence):\n",
    "    complement = {'A': 'T', 'C': 'G', 'T': 'A', 'G': 'C', 'N': 'N'}\n",
    "    result = []\n",
    "    for i in reversed(sequence):\n",
    "        result.append(complement[i])\n",
    "    return ''.join(result)"
   ]
  },
  {
   "cell_type": "markdown",
   "metadata": {},
   "source": [
    "### Solution 6\n",
    "With dict and sequence slicing"
   ]
  },
  {
   "cell_type": "code",
   "execution_count": 6,
   "metadata": {},
   "outputs": [],
   "source": [
    "def revc_6(sequence):\n",
    "    complement = {'A': 'T', 'C': 'G', 'T': 'A', 'G': 'C', 'N': 'N'}\n",
    "    result = \"\"\n",
    "    for i in sequence[::-1]:\n",
    "        result += complement[i]\n",
    "    return result"
   ]
  },
  {
   "cell_type": "markdown",
   "metadata": {},
   "source": [
    "### Solution 7\n",
    "With dict and list comprehention"
   ]
  },
  {
   "cell_type": "code",
   "execution_count": 7,
   "metadata": {},
   "outputs": [],
   "source": [
    "def revc_7(sequence):\n",
    "    complement = {'A': 'T', 'C': 'G', 'T': 'A', 'G': 'C', 'N': 'N'}\n",
    "    return (''.join([str(complement[sequence[i]]) for i in range(len(sequence))]))[::-1]"
   ]
  },
  {
   "cell_type": "markdown",
   "metadata": {},
   "source": [
    "### Solution 8\n",
    "With sets"
   ]
  },
  {
   "cell_type": "code",
   "execution_count": 8,
   "metadata": {},
   "outputs": [],
   "source": [
    "def revc_8(sequence):\n",
    "    result = \"\"\n",
    "    for x in sequence[::-1]:\n",
    "        for pair in [\"GC\", \"AT\"]:\n",
    "            if x in pair:\n",
    "                result += \"\".join(set(x) ^ set(pair))\n",
    "    return result"
   ]
  },
  {
   "cell_type": "markdown",
   "metadata": {},
   "source": [
    "### Solution 9\n",
    "With zip"
   ]
  },
  {
   "cell_type": "code",
   "execution_count": 9,
   "metadata": {},
   "outputs": [],
   "source": [
    "def revc_9(sequence):\n",
    "    complement = dict(zip('ACGTN', 'TGCAN'))\n",
    "    return ''.join(complement[x] for x in sequence[::-1])"
   ]
  },
  {
   "cell_type": "markdown",
   "metadata": {},
   "source": [
    "### Solution 10\n",
    "With lambda"
   ]
  },
  {
   "cell_type": "code",
   "execution_count": 10,
   "metadata": {},
   "outputs": [],
   "source": [
    "def revc_10(sequence):\n",
    "    complement = {'A': 'T', 'C': 'G', 'T': 'A', 'G': 'C', 'N': 'N'}\n",
    "    return ''.join(list(map(lambda x: complement[x], sequence)))[::-1]"
   ]
  },
  {
   "cell_type": "markdown",
   "metadata": {},
   "source": [
    "### Solution 11\n",
    "Using biopython library"
   ]
  },
  {
   "cell_type": "code",
   "execution_count": 11,
   "metadata": {},
   "outputs": [],
   "source": [
    "from Bio.Seq import Seq\n",
    "def revc_11(sequence):\n",
    "    seq = Seq(sequence)\n",
    "    return seq.reverse_complement()"
   ]
  },
  {
   "cell_type": "markdown",
   "metadata": {},
   "source": [
    "### Test"
   ]
  },
  {
   "cell_type": "markdown",
   "metadata": {},
   "source": [
    "We do performance tests for three sequences that significantly differs in length:\n",
    "- really short sequence created manually\n",
    "- gene sequence, about 1k (human hemoglobin beta subunit)\n",
    "- long sequence, about 1M (fragment of human chromosome Y)"
   ]
  },
  {
   "cell_type": "code",
   "execution_count": 12,
   "metadata": {},
   "outputs": [
    {
     "name": "stdout",
     "output_type": "stream",
     "text": [
      "short sequence length: 5\n",
      "gene sequence length: 1606\n",
      "long sequence length: 1939345\n",
      "\n",
      "test 1 , function:  1 :\n",
      "revc_1 TATTT\n",
      "100000 loops, best of 3: 9.3 µs per loop\n",
      "\n",
      "test 1 , function:  2 :\n",
      "revc_2 TATTT\n",
      "100000 loops, best of 3: 16.8 µs per loop\n",
      "\n",
      "test 1 , function:  3 :\n",
      "revc_3 TATTT\n",
      "100000 loops, best of 3: 12.3 µs per loop\n",
      "\n",
      "test 1 , function:  4 :\n",
      "revc_4 TATTT\n",
      "100000 loops, best of 3: 9.86 µs per loop\n",
      "\n",
      "test 1 , function:  5 :\n",
      "revc_5 TATTT\n",
      "100000 loops, best of 3: 13.2 µs per loop\n",
      "\n",
      "test 1 , function:  6 :\n",
      "revc_6 TATTT\n",
      "100000 loops, best of 3: 10.4 µs per loop\n",
      "\n",
      "test 1 , function:  7 :\n",
      "revc_7 TATTT\n",
      "10000 loops, best of 3: 22.9 µs per loop\n",
      "\n",
      "test 1 , function:  8 :\n",
      "revc_8 TATTT\n",
      "10000 loops, best of 3: 55.9 µs per loop\n",
      "\n",
      "test 1 , function:  9 :\n",
      "revc_9 TATTT\n",
      "10000 loops, best of 3: 26.4 µs per loop\n",
      "\n",
      "test 1 , function:  10 :\n",
      "revc_10 TATTT\n",
      "10000 loops, best of 3: 20.4 µs per loop\n",
      "\n",
      "test 1 , function:  11 :\n",
      "revc_11 TATTT\n",
      "10000 loops, best of 3: 46 µs per loop\n",
      "\n",
      "test 2 , function:  1 :\n",
      "revc_1 GCAATGAAAATAAATGTTTTTTATTAGGCAGAATCCAGATGCTCAAGGCCCTTCATAATATCCCCCAGTTTAGTAGTTGG\n",
      "100 loops, best of 3: 4.13 ms per loop\n",
      "\n",
      "test 2 , function:  2 :\n",
      "revc_2 GCAATGAAAATAAATGTTTTTTATTAGGCAGAATCCAGATGCTCAAGGCCCTTCATAATATCCCCCAGTTTAGTAGTTGG\n",
      "100 loops, best of 3: 2.64 ms per loop\n",
      "\n",
      "test 2 , function:  3 :\n",
      "revc_3 GCAATGAAAATAAATGTTTTTTATTAGGCAGAATCCAGATGCTCAAGGCCCTTCATAATATCCCCCAGTTTAGTAGTTGG\n",
      "10000 loops, best of 3: 135 µs per loop\n",
      "\n",
      "test 2 , function:  4 :\n",
      "revc_4 GCAATGAAAATAAATGTTTTTTATTAGGCAGAATCCAGATGCTCAAGGCCCTTCATAATATCCCCCAGTTTAGTAGTTGG\n",
      "10000 loops, best of 3: 78.9 µs per loop\n",
      "\n",
      "test 2 , function:  5 :\n",
      "revc_5 GCAATGAAAATAAATGTTTTTTATTAGGCAGAATCCAGATGCTCAAGGCCCTTCATAATATCCCCCAGTTTAGTAGTTGG\n",
      "1000 loops, best of 3: 1.86 ms per loop\n",
      "\n",
      "test 2 , function:  6 :\n",
      "revc_6 GCAATGAAAATAAATGTTTTTTATTAGGCAGAATCCAGATGCTCAAGGCCCTTCATAATATCCCCCAGTTTAGTAGTTGG\n",
      "100 loops, best of 3: 3.15 ms per loop\n",
      "\n",
      "test 2 , function:  7 :\n",
      "revc_7 GCAATGAAAATAAATGTTTTTTATTAGGCAGAATCCAGATGCTCAAGGCCCTTCATAATATCCCCCAGTTTAGTAGTTGG\n",
      "100 loops, best of 3: 3.38 ms per loop\n",
      "\n",
      "test 2 , function:  8 :\n",
      "revc_8 GCAATGAAAATAAATGTTTTTTATTAGGCAGAATCCAGATGCTCAAGGCCCTTCATAATATCCCCCAGTTTAGTAGTTGG\n",
      "100 loops, best of 3: 18.9 ms per loop\n",
      "\n",
      "test 2 , function:  9 :\n",
      "revc_9 GCAATGAAAATAAATGTTTTTTATTAGGCAGAATCCAGATGCTCAAGGCCCTTCATAATATCCCCCAGTTTAGTAGTTGG\n",
      "1000 loops, best of 3: 1.5 ms per loop\n",
      "\n",
      "test 2 , function:  10 :\n",
      "revc_10 GCAATGAAAATAAATGTTTTTTATTAGGCAGAATCCAGATGCTCAAGGCCCTTCATAATATCCCCCAGTTTAGTAGTTGG\n",
      "100 loops, best of 3: 2.05 ms per loop\n",
      "\n",
      "test 2 , function:  11 :\n",
      "revc_11 GCAATGAAAATAAATGTTTTTTATTAGGCAGAATCCAGATGCTCAAGGCCCTTCATAATATCCCCCAGTTTAGTAGTTGG\n",
      "10000 loops, best of 3: 145 µs per loop\n",
      "\n",
      "test 3 , function:  1 :\n",
      "revc_1 GATCTTGGTTCTTGTTATGACTGGCACAACTACGTAGGAACAATCTGAATGGGAGATAGCTTTTTGTGGGACACCACAAG\n",
      "1 loop, best of 3: 5.76 s per loop\n",
      "\n",
      "test 3 , function:  2 :\n",
      "revc_2 GATCTTGGTTCTTGTTATGACTGGCACAACTACGTAGGAACAATCTGAATGGGAGATAGCTTTTTGTGGGACACCACAAG\n",
      "1 loop, best of 3: 3.59 s per loop\n",
      "\n",
      "test 3 , function:  3 :\n",
      "revc_3 GATCTTGGTTCTTGTTATGACTGGCACAACTACGTAGGAACAATCTGAATGGGAGATAGCTTTTTGTGGGACACCACAAG\n",
      "1 loop, best of 3: 358 ms per loop\n",
      "\n",
      "test 3 , function:  4 :\n",
      "revc_4 GATCTTGGTTCTTGTTATGACTGGCACAACTACGTAGGAACAATCTGAATGGGAGATAGCTTTTTGTGGGACACCACAAG\n",
      "10 loops, best of 3: 89.9 ms per loop\n",
      "\n",
      "test 3 , function:  5 :\n",
      "revc_5 GATCTTGGTTCTTGTTATGACTGGCACAACTACGTAGGAACAATCTGAATGGGAGATAGCTTTTTGTGGGACACCACAAG\n",
      "1 loop, best of 3: 2.73 s per loop\n",
      "\n",
      "test 3 , function:  6 :\n",
      "revc_6 GATCTTGGTTCTTGTTATGACTGGCACAACTACGTAGGAACAATCTGAATGGGAGATAGCTTTTTGTGGGACACCACAAG\n",
      "1 loop, best of 3: 4.68 s per loop\n",
      "\n",
      "test 3 , function:  7 :\n",
      "revc_7 GATCTTGGTTCTTGTTATGACTGGCACAACTACGTAGGAACAATCTGAATGGGAGATAGCTTTTTGTGGGACACCACAAG\n",
      "1 loop, best of 3: 4.81 s per loop\n",
      "\n",
      "test 3 , function:  8 :\n",
      "revc_8 GATCTTGGTTCTTGTTATGACTGGCACAACTACGTAGGAACAATCTGAATGGGAGATAGCTTTTTGTGGGACACCACAAG\n",
      "1 loop, best of 3: 22.2 s per loop\n",
      "\n",
      "test 3 , function:  9 :\n",
      "revc_9 GATCTTGGTTCTTGTTATGACTGGCACAACTACGTAGGAACAATCTGAATGGGAGATAGCTTTTTGTGGGACACCACAAG\n",
      "1 loop, best of 3: 2.78 s per loop\n",
      "\n",
      "test 3 , function:  10 :\n",
      "revc_10 GATCTTGGTTCTTGTTATGACTGGCACAACTACGTAGGAACAATCTGAATGGGAGATAGCTTTTTGTGGGACACCACAAG\n",
      "1 loop, best of 3: 3.43 s per loop\n",
      "\n",
      "test 3 , function:  11 :\n",
      "revc_11 GATCTTGGTTCTTGTTATGACTGGCACAACTACGTAGGAACAATCTGAATGGGAGATAGCTTTTTGTGGGACACCACAAG\n",
      "10 loops, best of 3: 131 ms per loop\n",
      "\n"
     ]
    }
   ],
   "source": [
    "from Bio import SeqIO\n",
    "import numpy as np\n",
    "\n",
    "short_sequence = \"AAATA\"\n",
    "gene_sequence = str(SeqIO.read(\"data/hemoglobin.fa\", \"fasta\").seq)\n",
    "long_sequence = str(SeqIO.read(\"data/chrY.fa\", \"fasta\").seq)\n",
    "\n",
    "print(\"short sequence length:\", len(short_sequence))\n",
    "print(\"gene sequence length:\", len(gene_sequence))\n",
    "print(\"long sequence length:\", len(long_sequence))\n",
    "print()\n",
    "\n",
    "times = np.zeros((3, 11))\n",
    "for test, seq in enumerate((short_sequence, gene_sequence, long_sequence)):\n",
    "    for i in range(11):\n",
    "        print(\"test\", test+1, \", function: \", i+1, \":\")\n",
    "        func = \"revc_\"+str(i+1)\n",
    "        result = globals()[func](seq)\n",
    "        print(func, result[:80])\n",
    "        time = %timeit -o for _ in range(10): result = globals()[func](seq)\n",
    "        print()\n",
    "        times[test][i] = time.best"
   ]
  },
  {
   "cell_type": "code",
   "execution_count": 14,
   "metadata": {},
   "outputs": [
    {
     "data": {
      "image/png": "[encoded data removed]",
      "text/plain": [
       "<Figure size 1224x360 with 1 Axes>"
      ]
     },
     "metadata": {},
     "output_type": "display_data"
    },
    {
     "data": {
      "image/png": "[encoded data removed]",
      "text/plain": [
       "<Figure size 1224x360 with 1 Axes>"
      ]
     },
     "metadata": {},
     "output_type": "display_data"
    },
    {
     "data": {
      "image/png": "[encoded data removed]",
      "text/plain": [
       "<Figure size 1224x360 with 1 Axes>"
      ]
     },
     "metadata": {},
     "output_type": "display_data"
    }
   ],
   "source": [
    "import matplotlib.pyplot as plt\n",
    "x = np.arange(1, 12)\n",
    "for test, title in enumerate((\"Short Sequence\", \"Gene Sequence\", \"Long Sequence\")):\n",
    "    fig, ax = plt.subplots(figsize=(17, 5))\n",
    "    ax.set_title(title)\n",
    "    width = 0.8 \n",
    "    p = ax.bar(x, times[test], width, color='g')\n",
    "    ax.set_xticks(x)\n",
    "    ax.set_xticklabels(x)\n",
    "    plt.show()"
   ]
  },
  {
   "cell_type": "code",
   "execution_count": null,
   "metadata": {},
   "outputs": [],
   "source": []
  }
 ],
 "metadata": {
  "kernelspec": {
   "display_name": "Python 3",
   "language": "python",
   "name": "python3"
  },
  "language_info": {
   "codemirror_mode": {
    "name": "ipython",
    "version": 3
   },
   "file_extension": ".py",
   "mimetype": "text/x-python",
   "name": "python",
   "nbconvert_exporter": "python",
   "pygments_lexer": "ipython3",
   "version": "3.6.5"
  }
 },
 "nbformat": 4,
 "nbformat_minor": 1
}
